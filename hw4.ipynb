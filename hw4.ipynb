{
 "cells": [
  {
   "cell_type": "markdown",
   "metadata": {},
   "source": [
    "## algorithm design and anlysis-2025 spring  homework 4\n",
    "**Deadline**：2025.5.14\n",
    "\n",
    "**name**:\n",
    "\n",
    "\n",
    "note：\n",
    "---\n",
    "1. 带有\\*的题目，申请免上课的同学，必须完成，其他同学选作；\n",
    "2. 请独立完成，如求助了他人或者大模型，请著明，并且不可省略算法分析部分；\n",
    "4. 如若作答有雷同，全部取消成绩；\n",
    "3. 需要书面作答的题目，可以通过引用图片的形式添加，但是注意上传项目时包含所引用的图片的源文件；\n",
    "4. $log_n$ 默认表示$log_2{n}$;"
   ]
  },
  {
   "cell_type": "markdown",
   "metadata": {},
   "source": [
    "## 问题 1 \n",
    "**最小生成树（Minimum Spanning Tree）**\n",
    "\n",
    "设  **G**  为一个带权重的连通无向图，且所有边的权重均不相等。令$e_i$ 为权重第 $i$ 小的边。最小生成树（MST）是否必须包含 $e_1$ ? 同理，是否必须包含 $e_2$ 和 $e_3$ ? 若必须包含，请给出证明；否则，请构造反例。需从基本原理论证，不能依赖割引理(cut lemma) 或 Prim/Kruskal算法的正确性。\n"
   ]
  },
  {
   "cell_type": "markdown",
   "metadata": {},
   "source": [
    "answer:#gpt辅助\n",
    "![hw4q1.jpg](./fig/hw4q1.jpg)"
   ]
  },
  {
   "cell_type": "markdown",
   "metadata": {},
   "source": [
    "## 问题 2 \n",
    "**瓶颈生成树（Bottleneck Spanning Tree）**\n",
    "\n",
    "带有权重的无向图 $G(V,E,w)$ 的瓶颈生成树，表现为：在所有生成树中，最大权重边的权重值最小。即，BST $T$ 最小化瓶颈损失 $c(T)=max_{e \\in T}{w(e)}$。\n",
    "\n",
    "1. 证明 $G$ 的每一个最小生成树（MST）都是瓶颈生成树（BST）\n",
    "2. 设计一个线性时间复杂度的算法：， 对于一个图 $G(V,E,w)$ 和一个整数 $b$，判断图 $ G$ 是否存在一个瓶颈生成树，其最大权重边的权重不超过 $b$，分析算法设计思路，并基于python编程实现。\n",
    "3. 设计一个线性时间复杂度的算法：对于给定的图 $G(V,E,w)$，找到其瓶颈生成树，分析算法设计思路，并基于python编程实现。"
   ]
  },
  {
   "cell_type": "markdown",
   "metadata": {},
   "source": [
    "idea：\n",
    "1问：\n",
    "![hw4q2.jpg](./fig/hw4q2.jpg)\n",
    "2问和3问:\n",
    "用prim算法找到最小生成树即为瓶颈生成树\n",
    "对于第2问,在生成最小生成树过程中，如果最小权重边的权重大于b，则返回false\n"
   ]
  },
  {
   "cell_type": "code",
   "execution_count": null,
   "metadata": {},
   "outputs": [],
   "source": [
    "# add your code here\n",
    "# algorithm of the liear time complexity \n",
    "import heapq\n",
    "\n",
    "def f2(graph,b):\n",
    "    vertices = set()\n",
    "    for u, v in graph[1]:\n",
    "        vertices.add(u)\n",
    "        vertices.add(v)\n",
    "    num_vertices = len(vertices)\n",
    "    adj_list = {v: [] for v in vertices}\n",
    "    for u, v, w in (graph[1],graph[2]):\n",
    "        adj_list[u].append((v, w))\n",
    "        adj_list[v].append((u, w))\n",
    "\n",
    "    visited = set()\n",
    "    pq = []\n",
    "    for e,w in adj_list[0]:\n",
    "        heapq.heappush(pq, (0, e, w))\n",
    "    while True:\n",
    "        if len(visited) == num_vertices:\n",
    "            break\n",
    "        pre_node,node,weight = heapq.heappop(pq)\n",
    "        if weight > b:\n",
    "            return False\n",
    "        if node not in visited:\n",
    "            visited.add(node)\n",
    "            for e,w in adj_list[node]:\n",
    "                if e not in visited:\n",
    "                    heapq.heappush(pq, (node, e, w))\n",
    "    return True\n",
    "\n",
    "def f3(graph):\n",
    "    vertices = set()\n",
    "    for u, v in graph[1]:\n",
    "        vertices.add(u)\n",
    "        vertices.add(v)\n",
    "    num_vertices = len(vertices)\n",
    "    adj_list = {v: [] for v in vertices}\n",
    "    for u, v, w in (graph[1],graph[2]):\n",
    "        adj_list[u].append((v, w))\n",
    "        adj_list[v].append((u, w))\n",
    "\n",
    "    visited = set()\n",
    "    pq = []\n",
    "    for e,w in adj_list[0]:\n",
    "        heapq.heappush(pq, (0, e, w))\n",
    "    mst_edges = []\n",
    "    while True:\n",
    "        if len(visited) == num_vertices:\n",
    "            break\n",
    "        pre_node,node,weight = heapq.heappop(pq)\n",
    "        if node not in visited:\n",
    "            visited.add(node)\n",
    "            mst_edges.append((pre_node, node, weight))\n",
    "            for e,w in adj_list[node]:\n",
    "                if e not in visited:\n",
    "                    heapq.heappush(pq, (node, e, w))\n",
    "    return mst_edges\n",
    "    "
   ]
  },
  {
   "cell_type": "markdown",
   "metadata": {},
   "source": [
    "## 问题 3\n",
    "\n",
    "**道路网（Road Network）**\n",
    "\n",
    "假设有一个以图 $ G(V, E, l) $ 表示的道路网络，连接了一组城市 $ V $。我们假设该网络是有向的，并且每条道路 $(u, v) \\in E$ 都有一个非负的长度 $ l(u, v) $。一条新的道路即将被建造，因此有一个列表 $ E' $ 包含它可以连接的城市对。每对 $(u, v) \\in E'$ 都有一个对应的长度 $ l'(u, v) $。我们希望选择一对城市，使得两个城市 $ s, t \\in V $ 之间的距离减少最大。请为此问题编写一个高效的算法，并详细解释算法的正确性和复杂度。\n"
   ]
  },
  {
   "cell_type": "markdown",
   "source": [
    "idea：由题可以知道我们是求两个城市之间的最短距离，因此我们可以使用dijkstra算法，但是由于dijkstra算法的时间复杂度为O(V^2)，因此我们需要优化一下，我们可以使用堆优化的dijkstra算法，时间复杂度为O(ElogV)\n",
    "每次我们都从堆中取出最小的距离，然后更新它的邻居的距离，如果邻居的距离比当前的距离小，则更新它的距离，并将它加入堆中，直到所有顶点都被访问过或者堆为空，我们就找到了起点到其他所有点的最短路径。"
   ],
   "metadata": {
    "collapsed": false
   }
  },
  {
   "cell_type": "code",
   "outputs": [
    {
     "name": "stdout",
     "output_type": "stream",
     "text": [
      "[0, 2, 3, 5, 6, 4]\n",
      "2\n"
     ]
    }
   ],
   "source": [
    "# add your code here\n",
    "# algorithm of the liear time complexity \n",
    "import heapq\n",
    "\n",
    "#graph是邻接表,两个城市s,t,n是城市个数\n",
    "def f(graph:list,s,t,n):\n",
    "    if s == t:\n",
    "        return 0\n",
    "    visited = set()\n",
    "    pq = []\n",
    "    distence = [float('inf') for _ in range(n)]\n",
    "    distence[s] = 0\n",
    "    heapq.heappush(pq, (0, s))\n",
    "    for i in range(n):\n",
    "        dis,node = heapq.heappop(pq)\n",
    "        if node not in visited:\n",
    "            visited.add(node)\n",
    "            for e,w in graph[node]:\n",
    "                if e not in visited:\n",
    "                    if (distence[e],e) in pq:\n",
    "                        index = pq.index((distence[e],e))\n",
    "                        pq[index] = pq[-1]\n",
    "                        pq.pop()\n",
    "                        heapq.heapify(pq)\n",
    "                    distence[e] = min(distence[e],dis+w)\n",
    "                    heapq.heappush(pq, (distence[e],e))\n",
    "    print(distence)\n",
    "    return distence[t]\n",
    "\n",
    "# example\n",
    "graph = [[(1,2),(2,5)],[(2,1),(3,3)],[(3,3),(4,4),(5,1)],[(4,1),(5,4)],[(5,1)],[]]\n",
    "print(f(graph,0,1,6))"
   ],
   "metadata": {
    "collapsed": false,
    "ExecuteTime": {
     "end_time": "2025-05-07T02:10:33.403960Z",
     "start_time": "2025-05-07T02:10:33.393153Z"
    }
   },
   "execution_count": 19
  },
  {
   "cell_type": "markdown",
   "metadata": {},
   "source": [
    "## 问题 4\n",
    "\n",
    "**逃离问题**\n",
    "\n",
    "一个 $ n \\times n $ 的网格是一个无向图，由 $ n $ 行和 $ n $ 列的顶点组成，如下图所示。我们用 $(i,j)$ 表示第 $ i $ 行和第 $ j $ 列的顶点。除了边界顶点，网格中的所有顶点都有四个邻居，即满足 $ i = 1, i = n, j = 1 $ 或 $ j = n $ 的点 $(i,j)$。\n",
    "\n",
    "给定网格中的 $ m \\leq n^2 $ 个起点 $(x_1, y_1), (x_2, y_2), \\cdots , (x_m, y_m)$，逃离问题是确定是否存在 $ m $ 条顶点不相交的路径（即路径之间不相交），从这些起点到边界上的任意 $ m $ 个不同点。例如，图1中的网格存在逃离。\n",
    "\n",
    "(1) 该问题可以看作是一个最大流问题。考虑一个流网络，其中顶点和边都有容量。也就是说，进入任何给定顶点的总正流量受到容量限制。证明在具有边和顶点容量的网络中确定最大流可以简化为在具有可比大小的普通流网络上的最大流问题。更准确地说，你需要将一个具有顶点和边容量的网络 $ G = (V,E) $ 转换为另一个仅具有边容量的网络 $ G' = (V', E') $，使得两个网络上的最大流相同，并且你构建的新网络具有 $ V' = O(V) $ 个顶点和 $ E' = O(E) $ 条边。你可以假设网络是连通的。\n",
    "\n",
    "(2) 描述一个解决逃离问题的高效算法，并分析其运行时间。\n",
    "\n",
    "\n",
    "<div align=\"center\"> <img alt=\"图片\" src=\"./fig/escepe-p.png\"> </div>\n",
    "<center> 图2. 逃脱问题网格，起始顶点为黑色，其他网格顶点为白色</center>"
   ]
  },
  {
   "cell_type": "markdown",
   "metadata": {},
   "source": [
    "idea：\n",
    "（1）将每个顶点v拆成一个边$(v_i,v_o)$，$v_i$为进入顶点v的边，$v_o$为离开顶点v的边，$v_i$和$v_o$之间的边的容量为顶点v的容量，所以$ V' =2|V|=O(V) $ 、 $ E' =|E|+|V|=O(E) $\n",
    "由于$v_i$和$v_o$之间的边的容量为顶点v的容量，所以原网络的流量为$|f|=|f_i|+|f_o|$，而新网络的流量为$|f'|=|f'_i|+|f'_o|$，所以原网络的流量和新网络的流量是相等的，所以两个网络上的最大流是相等的。\n",
    "\n",
    "（2）由于每个顶点都会有四个邻居，因此我们可以将每个顶点看作是一个源点，每个边看作是一个容量为1的边，那么问题就转化为了最大流问题，我们可以使用dinic算法解决，时间复杂度为$O(V^2E)$\n",
    "dinic算法，先通过bfs算法找到level graph，然后通过dfs算法找到阻塞流，将原图减去阻塞流，重复之前步骤，直到没有阻塞流或者到达不了终点，再用原图减去最后更新的图就得到了最大流。"
   ]
  }
 ],
 "metadata": {
  "language_info": {
   "name": "python"
  },
  "kernelspec": {
   "name": "python3",
   "language": "python",
   "display_name": "Python 3 (ipykernel)"
  }
 },
 "nbformat": 4,
 "nbformat_minor": 2
}
