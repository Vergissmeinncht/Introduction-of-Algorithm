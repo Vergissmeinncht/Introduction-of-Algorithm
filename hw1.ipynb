{
 "cells": [
  {
   "cell_type": "markdown",
   "metadata": {},
   "source": [
    "## algorithm design and anlysis-2025 spring  homework 1 \n",
    "**Deadline**：2025.5.14\n",
    "\n",
    "**name**:\n",
    "\n",
    "\n",
    "note：\n",
    "---\n",
    "1. 带有\\*的题目，申请免上课的同学，必须完成，其他同学选作；\n",
    "2. 请独立完成，如求助了他人或者大模型，请著明，并且不可省略算法分析部分；\n",
    "4. 如若作答有雷同，全部取消成绩；\n",
    "3. 需要书面作答的题目，可以通过引用图片的形式添加，但是注意上传项目时包含所引用的图片的源文件；\n",
    "4. $log_n$ 默认表示$log_2{n}$;"
   ]
  },
  {
   "cell_type": "markdown",
   "metadata": {},
   "source": [
    "## 问题 1\n",
    "\n",
    "对于下面的每一对表达式(A, B), A是否能表示为B的 $\\Theta, \\Omega ,O$形式. 请注意, 这些关系中的零个、一个或多个可能成立。列出所有正确的。经常发生一些学生会,把指示写错, 所以请把关系写完整, 例如: $A = O(B),  A =\\Theta(B)$, 或$A = \\Omega(B)$。\n",
    "\n",
    "1. $A=n^2-100n, B=n^2$\n",
    "2. $A=logn, B=log_{1.2}n$\n",
    "3. $A=3^{2n}, B=2^{4n}$\n",
    "4. $A=2^{logn}, B=n$\n",
    "5. $A=\\log{\\log}{n},B=10^{10^{100}}$"
   ]
  },
  {
   "cell_type": "markdown",
   "metadata": {},
   "source": [
    "you can refer a handwritten picture, please upload the picture in /fig/xxx.png\n",
    "answer: #大模型辅导\n",
    "![hw1q1.png](./fig/hw1q1.png)"
   ]
  },
  {
   "cell_type": "markdown",
   "metadata": {},
   "source": [
    "## 问题 2：\n",
    "\n",
    "假设有函数 $f$ 和 $g$ 使得 $f(n)$ = $O(g(n))$ 对于下面的每一个陈述, 请判断对错, 如果正确请给出证明, 否则请给出一个反例。\n",
    "\n",
    "1. $\\log{f(n)}$ = $O(\\log(1+g(n)))$\n",
    "2. $3^{f(n)}=O(3^{g(n)})$\n",
    "3. $(f(n))^2=O((g(n))^2)$ "
   ]
  },
  {
   "cell_type": "markdown",
   "metadata": {},
   "source": [
    "you can refer a handwritten picture, please upload the picture in /fig/xxx.png\n",
    "answer:#大模型辅导\n",
    "![hw1q2.jpg](./fig/hw1q2.jpg)"
   ]
  },
  {
   "cell_type": "markdown",
   "metadata": {},
   "source": [
    "## 问题 3\n",
    "\n",
    "根据下列递归公式, 计算下列 $T(n)$ 对应的的渐近上界。要求所求的边界尽可能的紧（tight）, 请写明步骤。\n",
    "\n",
    "1. $T(1)=1; T(n)=T(n/4)+1$ for $n>1$\n",
    "2. $T(1)=1;T(n)=3T(n/3)+n^2$ for $n>1$\n",
    "3. $T(1)=1;T(n)=T(2n/3)+1$ for $n>1$\n",
    "4. $T(1)=1;T(n)=5T(n/4)+n$ for $n>1$\n",
    "5. $T(n)=1 \\ for\\ n \\le 2 ; T(n)=T(\\sqrt{n})+1 \\ for \\ n>2$"
   ]
  },
  {
   "cell_type": "markdown",
   "metadata": {},
   "source": [
    "can refer a handwritten picture, pleas upload the picture in /fig/xxx.png\n",
    "answer:#大模型辅导\n",
    "![hw1q3.jpg](./fig/hw1q3.jpg)"
   ]
  },
  {
   "cell_type": "markdown",
   "metadata": {},
   "source": [
    "## 问题 4：\n",
    "\n",
    "给定一个包含n个元素的数组 `profits` , 它的第 `i` 个元素 `profits[i]` 表示一支股票第 `i` 天的**收益**（正数表示涨, 负数表示跌）。你只能选择 **某一天** 买入这只股票, 并选择在 **未来的某一个不同的日子** 卖出该股票。\n",
    "\n",
    "1. 设计一个算法来计算你所能获取的最大利润和对应买入和卖出的日期。请分析算法方案, 计算其时间复杂度, 并且使用python编程实现该算法。\n",
    "\n",
    "2. \\* 设计一个时间复杂度为 $O(n)$的算法实现该算法\n",
    "\n",
    "e.g. :\n",
    "---\n",
    "profits=[3,2,1,-7,5,2,-1,3,-1], 第5天买入, 第8天卖出, 收益最大：9\n",
    "\n"
   ]
  },
  {
   "cell_type": "markdown",
   "metadata": {
    "collapsed": false
   },
   "source": [
    "idea:使用前缀和来计算整个时间中股票的最大最小值，两者相减即为收益最大值。\n",
    "时间复杂度:O(n)\n",
    "空间复杂度：O(1)"
   ]
  },
  {
   "cell_type": "code",
   "execution_count": 8,
   "metadata": {
    "ExecuteTime": {
     "end_time": "2025-03-19T04:39:08.437940Z",
     "start_time": "2025-03-19T04:39:08.431368Z"
    }
   },
   "outputs": [
    {
     "name": "stdout",
     "output_type": "stream",
     "text": [
      "9\n"
     ]
    }
   ],
   "source": [
    "# add your code\n",
    "profits=[3,2,1,-7,5,2,-1,3,-1]\n",
    "def f(profits):\n",
    "    n = len(profits)\n",
    "    minp = profits[0]\n",
    "    maxp = profits[0]\n",
    "    for i in range(1,n):\n",
    "        profits[i] = profits[i] + profits[i-1]\n",
    "        minp = min(minp,profits[i])\n",
    "        maxp = max(maxp,profits[i])\n",
    "    return maxp - minp\n",
    "print(f(profits))"
   ]
  },
  {
   "cell_type": "code",
   "execution_count": 9,
   "metadata": {
    "ExecuteTime": {
     "end_time": "2025-03-19T04:39:08.987493Z",
     "start_time": "2025-03-19T04:39:08.970238Z"
    }
   },
   "outputs": [
    {
     "name": "stdout",
     "output_type": "stream",
     "text": [
      "9\n"
     ]
    }
   ],
   "source": [
    "# an algorithm with O(n)\n",
    "# add your code\n",
    "profits=[3,2,1,-7,5,2,-1,3,-1]\n",
    "def f(profits):\n",
    "    n = len(profits)\n",
    "    minp = profits[0]\n",
    "    maxp = profits[0]\n",
    "    for i in range(1,n):\n",
    "        profits[i] = profits[i] + profits[i-1]\n",
    "        minp = min(minp,profits[i])\n",
    "        maxp = max(maxp,profits[i])\n",
    "    return maxp - minp\n",
    "print(f(profits))"
   ]
  },
  {
   "cell_type": "markdown",
   "metadata": {},
   "source": [
    "## 问题 5：\n",
    "\n",
    "观察下方的分治算法（divide-and-conquer algorithm）的伪代码, 回答下面问题\n",
    "\n",
    "```latex\n",
    "DoSomething(A,p,r)\n",
    "-----\n",
    "n := r-p+1\n",
    "if n=2 and A[p]>A[r] then\n",
    "    swap A[p] and A[r]\n",
    "else if n >= 3 then\n",
    "    m = ceil(2n/3)\n",
    "    DoSomething(A,p,p+m-1)\n",
    "    DoSomething(A,r-m+1,r)\n",
    "    DoSomething(A,p,p+m-1)  \n",
    "    \n",
    "---\n",
    "first call: DoSomething(A,1,n)\n",
    "```\n",
    "\n",
    "note：$ceil(2n/3)=\\left\\lceil {2n/3} \\right\\rceil$；$:=$ 表示赋值, 等价于 $\\to$；A是一个包含n的整数元素的数组, \n",
    "\n",
    "1. 写出该算法时间复杂度的递归公式, 并求解其对应的渐进表示\n",
    "2. 描述一下该算法的功能, 并判断是否是最高效的解决方案\n",
    "3. 使用python编程实现上述算法或其对应的更高效版本的算法\n"
   ]
  },
  {
   "cell_type": "markdown",
   "metadata": {},
   "source": [
    "idea：\n",
    "![hw1q5.jpg](./fig/hw1q5.jpg)"
   ]
  },
  {
   "cell_type": "markdown",
   "metadata": {},
   "source": [
    "answer:"
   ]
  },
  {
   "cell_type": "code",
   "execution_count": 10,
   "metadata": {
    "ExecuteTime": {
     "end_time": "2025-03-19T04:39:10.906181Z",
     "start_time": "2025-03-19T04:39:10.894837Z"
    }
   },
   "outputs": [
    {
     "name": "stdout",
     "output_type": "stream",
     "text": [
      "[-7, -1, -1, 1, 2, 2, 3, 3, 5]\n"
     ]
    }
   ],
   "source": [
    "# add your code here\n",
    "# your algorithm time complexity is :\n",
    "def sort(arr):\n",
    "    if len(arr) <= 1:\n",
    "        return arr\n",
    "    mid = len(arr) // 2\n",
    "    l = sort(arr[:mid])\n",
    "    r = sort(arr[mid:])\n",
    "    return f(l, r)\n",
    "\n",
    "def f(l, r):\n",
    "    res = []\n",
    "    i, j = 0, 0\n",
    "    while i < len(l) and j < len(r):\n",
    "        if l[i] < r[j]:\n",
    "            res.append(l[i])\n",
    "            i += 1\n",
    "        else:\n",
    "            res.append(r[j])\n",
    "            j += 1\n",
    "    res.extend(l[i:])\n",
    "    res.extend(r[j:])\n",
    "    return res\n",
    "print(sort([3,2,1,-7,5,2,-1,3,-1]))"
   ]
  },
  {
   "cell_type": "markdown",
   "metadata": {},
   "source": [
    "## 问题 6：\n",
    "\n",
    "给定一个大小为 `n` 的数组 `nums` , 返回其中的多数元素。多数元素是指在数组中出现次数 **大于** `⌊ n/2 ⌋` 的元素。\n",
    "\n",
    "你可以假设数组是非空的, 并且给定的数组总是存在多数元素。\n",
    "\n",
    "1. 设计一个算法找到给定数组的多数元素, 分析算法设计思路, 计算算法时间复杂度, 使用python编程实现\n",
    "2. \\* 设计时间复杂度为 O(n)、空间复杂度为 O(1) 的算法解决此问题, 分析算法设计思路, 使用python编程实现\n",
    "\n",
    "e.g.:\n",
    "---\n",
    "1. nums=[3,2,3], 返回3\n",
    "2. nums=[2,2,1,1,1,2,2], 返回2\n"
   ]
  },
  {
   "cell_type": "markdown",
   "metadata": {},
   "source": [
    "idea：利用字典计数得到多数元素"
   ]
  },
  {
   "cell_type": "code",
   "execution_count": 11,
   "metadata": {
    "ExecuteTime": {
     "end_time": "2025-03-19T04:39:12.596106Z",
     "start_time": "2025-03-19T04:39:12.582813Z"
    }
   },
   "outputs": [
    {
     "name": "stdout",
     "output_type": "stream",
     "text": [
      "3\n",
      "2\n"
     ]
    }
   ],
   "source": [
    "# add your code here\n",
    "# your algorithm time complexity is :\n",
    "def f(nums):\n",
    "    dict = {}\n",
    "    for i in nums:\n",
    "        if i in dict:\n",
    "            dict[i] += 1\n",
    "        else:\n",
    "            dict[i] = 1\n",
    "    for i in dict:\n",
    "        if dict[i] > len(nums) // 2:\n",
    "            return i\n",
    "print(f([3,2,3]))\n",
    "print(f([2,2,1,1,1,2,2]))"
   ]
  },
  {
   "cell_type": "markdown",
   "metadata": {},
   "source": [
    "idea for 2\\*：因为多数元素大于n/2，所以可以使用摩尔投票法"
   ]
  },
  {
   "cell_type": "code",
   "execution_count": 12,
   "metadata": {
    "ExecuteTime": {
     "end_time": "2025-03-19T04:39:13.595483Z",
     "start_time": "2025-03-19T04:39:13.585978Z"
    }
   },
   "outputs": [
    {
     "name": "stdout",
     "output_type": "stream",
     "text": [
      "3\n",
      "2\n"
     ]
    }
   ],
   "source": [
    "# algorithm time complexity：O(n), space complexity:O(1)                           \n",
    "# add your code here\n",
    "def f(nums):\n",
    "    count = 0\n",
    "    a = None\n",
    "    for i in nums:\n",
    "        if count == 0:\n",
    "            a = i\n",
    "        count += 1 if i == a else -1\n",
    "    return a\n",
    "print(f([3,2,1,3,3]))\n",
    "print(f([2,2,1,1,1,2,2]))"
   ]
  },
  {
   "cell_type": "markdown",
   "metadata": {},
   "source": [
    "\"## 问题 7：\n",
    "\n",
    "给定一个包含不同整数元素的数组 $ A[1..n]$ ,并且满足条件：$A[1]>A[2]$ 并且 $A[n-1]<A[n]$; 规定：如果一个元素比它两边的邻居元素都小, 即：$A[x]<A[x-1], A[x]<A[x+1]$ , 称这个元素A[x]为“局部最小”。通过遍历一次数组, 我们可以很容易在 $O(n)$的时间复杂度下找到一个局部最小值, \n",
    "\n",
    "\n",
    "1. 分析该问题, 设计一个算法在$O(logn)$的时间复杂度下找到一个局部最小(返回数值), 要求：分析算法设计思路, 并且使用python编程实现\n",
    "2. \\* 设计算法找出所有局部最小值, 分析算法设计思路, 并使用python编程实现\n",
    "\n",
    "e.g.:\n",
    "---\n",
    "A=[9, 3, 7, 2, 1, 4, 5 ] 时,  局部最小元素为 3, 1\n"
   ]
  },
  {
   "cell_type": "markdown",
   "metadata": {},
   "source": [
    "idea：二分查找"
   ]
  },
  {
   "cell_type": "code",
   "execution_count": 13,
   "metadata": {
    "ExecuteTime": {
     "end_time": "2025-03-19T04:46:40.212780Z",
     "start_time": "2025-03-19T04:46:40.191589Z"
    }
   },
   "outputs": [
    {
     "name": "stdout",
     "output_type": "stream",
     "text": [
      "1\n"
     ]
    }
   ],
   "source": [
    "# add your code here\n",
    "# your algorithm time complexity is :\n",
    "def f(nums,l,r):\n",
    "    if r - l + 1<3:\n",
    "        return -1\n",
    "    mid = l + (r - l) // 2\n",
    "    if nums[mid] < nums[mid - 1] and nums[mid] < nums[mid + 1]:\n",
    "        return nums[mid]\n",
    "    if nums[mid] > nums[mid - 1]:\n",
    "        return f(nums,l,mid)\n",
    "    else:\n",
    "        return f(nums,mid,r)\n",
    "print(f([9, 3, 7, 2, 1, 4, 5],0,6))"
   ]
  },
  {
   "cell_type": "markdown",
   "metadata": {},
   "source": [
    "idea:用一个数组存储递归得到的所有结果"
   ]
  },
  {
   "cell_type": "code",
   "execution_count": 14,
   "metadata": {
    "ExecuteTime": {
     "end_time": "2025-03-19T04:48:51.223502Z",
     "start_time": "2025-03-19T04:48:51.204883Z"
    }
   },
   "outputs": [
    {
     "name": "stdout",
     "output_type": "stream",
     "text": [
      "[3, 1]\n"
     ]
    }
   ],
   "source": [
    "# add your code here\n",
    "# your algorithm time complexity is :\n",
    "ans = []\n",
    "\n",
    "def f(nums,l,r):\n",
    "    if r - l + 1<3:\n",
    "        return\n",
    "    mid = l + (r - l) // 2\n",
    "    if nums[mid] < nums[mid - 1] and nums[mid] < nums[mid + 1]:\n",
    "        ans.append(nums[mid])\n",
    "    f(nums,l,mid)\n",
    "    f(nums,mid,r)\n",
    "f([9, 3, 7, 2, 1, 4, 5],0,6)\n",
    "print(ans)"
   ]
  },
  {
   "cell_type": "markdown",
   "metadata": {},
   "source": [
    "## 问题 8：\n",
    "\n",
    "给定包含n个不同数字的一组数, 寻找一种基于比较的算法在这组数中找到k个最小的数字, 并按顺序输出它们。\n",
    "\n",
    "1. 将n个数先进行排序, 然后按顺序输出最小的k个数。要求：选择合适的排序算法实现上述操作, 计算算法时间复杂度, 并使用python编程实现。\n",
    "2. 建立一个包含这n个数的堆（heap）, 并且调用 k 次Extract-min 按顺序输出最小的k个数。使用往空堆中不断插入元素的方法建立堆, 分析这种方法建堆的时间复杂度, 并使用python编程实现\n",
    "3. \\* 假设数组中包含的数据总数目超过了计算机的存储能力, 请设计一个算法, 找到这堆数据的前k小的数值, 计算时间复杂度, 并使用python实现该算法, 假设计算机一定能存储k个数据。\n",
    "\n",
    "e.g.：\n",
    "---\n",
    "数组arr=[5,4,3,2,6,1,88,33,22,107] 的前3个最小数据为：1, 2, 3\n"
   ]
  },
  {
   "cell_type": "markdown",
   "metadata": {},
   "source": [
    "idea：\n",
    "1、使用快速排序进行排序然后输出最小的k个元素,时间复杂度：O(nlogn)\n",
    "2、先实现一个小根堆，然后输出最小的k个元素，时间复杂度：O(nlogn)\n",
    "3、用一个长度为k的栈，遍历数组，如果数组中的元素小于栈顶元素或栈空，则将改元素放入栈中适当的位置，时间复杂度：O(nk)"
   ]
  },
  {
   "cell_type": "code",
   "execution_count": 4,
   "metadata": {
    "ExecuteTime": {
     "end_time": "2025-03-21T09:03:20.543249Z",
     "start_time": "2025-03-21T09:03:20.524789Z"
    }
   },
   "outputs": [
    {
     "name": "stdout",
     "output_type": "stream",
     "text": [
      "[1, 2, 3]\n",
      "[1, 2, 3]\n",
      "[1, 2, 3]\n"
     ]
    }
   ],
   "source": [
    "# add your code here\n",
    "# your algorithm time complexity is :\n",
    "\n",
    "#快排实现\n",
    "def p(arr,l,r):\n",
    "    i = l - 1\n",
    "    x = arr[r]\n",
    "    for j in range(l,r):\n",
    "        if arr[j] <=x:\n",
    "            i += 1\n",
    "            arr[i],arr[j] = arr[j],arr[i]\n",
    "    arr[i+1],arr[r] = arr[r],arr[i+1]\n",
    "    return i+1\n",
    "\n",
    "def qs(arr,l,r):\n",
    "    if l < r:\n",
    "        q = p(arr,l,r)\n",
    "        qs(arr,l,q-1)\n",
    "        qs(arr,q+1,r)\n",
    "    return arr\n",
    "\n",
    "def f1(arr,k):\n",
    "    qs(arr,0,len(arr)-1)\n",
    "    return arr[:k]\n",
    "print(f1([5,4,3,2,6,1,88,33,22,107],3))\n",
    "\n",
    "#小根堆实现\n",
    "def heap(arr,i,n):\n",
    "    l = 2*i+1\n",
    "    r = 2*i+2\n",
    "    smallest = i\n",
    "    if l < n and arr[l] < arr[smallest]:\n",
    "        smallest = l\n",
    "    if r < n and arr[r] < arr[smallest]:\n",
    "        smallest = r\n",
    "    if smallest != i:\n",
    "        arr[i],arr[smallest] = arr[smallest],arr[i]\n",
    "        heap(arr,smallest,n)\n",
    "\n",
    "def build_heap(arr):\n",
    "    n = len(arr)\n",
    "    for i in range(n//2-1,-1,-1):\n",
    "        heap(arr,i,n)\n",
    "\n",
    "def f2(arr,k):\n",
    "    build_heap(arr)\n",
    "    ans = []\n",
    "    for i in range(k):\n",
    "        ans.append(arr[0])\n",
    "        arr[0] = arr[-1]\n",
    "        arr.pop()\n",
    "        heap(arr,0,len(arr))\n",
    "    return ans\n",
    "print(f2([5,4,3,2,6,1,88,33,22,107],3))\n",
    "\n",
    "#栈实现\n",
    "def f3(arr,k):\n",
    "    stack = []\n",
    "    for i in arr:\n",
    "        if len(stack) == 0:\n",
    "            stack.append(i)\n",
    "        elif len(stack) < k:\n",
    "            if i >= stack[-1]:\n",
    "                stack.append(i)\n",
    "            else:\n",
    "                stack.append(0)\n",
    "                for j in range(len(stack)-2,-1,-1):\n",
    "                    if i < stack[j]:\n",
    "                        stack[j+1] = stack[j]\n",
    "                        stack[j] = i\n",
    "        elif i < stack[-1]:\n",
    "                for j in range(k-2,-1,-1):\n",
    "                    if i < stack[j]:\n",
    "                        stack[j+1] = stack[j]\n",
    "                        stack[j] = i\n",
    "    return stack\n",
    "print(f3([5,4,3,2,6,1,88,33,22,107],3))\n"
   ]
  },
  {
   "cell_type": "markdown",
   "metadata": {},
   "source": [
    "## 问题 9：\n",
    "\n",
    "**选择问题**:给定一个包含n个未排序值的数组A和一个$k≤n$的整数, 返回A中最小的第k项。\n",
    "\n",
    "在课堂上, 学了一个简单的O(n)随机算法来解决选择问题。事实上还有一种更复杂的最坏情况下时间复杂度为$O(n)$ 的选择算法。假设使用一个黑盒过程来实现这个O(n)选择算法: 给定一个数组A、 $p < r$ 和 k,  $BB(A, p, r, k)$ 可以在$O(r−p+ 1)$时间内找到并报告$A[p..r]$中第k小的项的下标。假设你可以在线性时间内处理Partition过程。\n",
    "\n",
    "1. 请分析如何修改 Quicksort 算法可以使其最差情况下的运行时间为 $O(nlogn)$, 使用伪代码实现, 并分析为何修改后的版本最差情况的运行时间为$O(nlogn)$\n",
    "\n",
    "note: 伪代码中, 你可以直接调用用` BB(A,p,r,k)`这个函数用于表示在最坏情况下时间复杂度为$O(n)$的选择算法；\n",
    "\n",
    "\n",
    "\n",
    "2. 找到一个更好的算法报告数组A中的前k小的项, 使用伪代码表示你的算法, 并分析你算法的时间复杂度。\n",
    "\n",
    "举例：A=[13, 3, 7, 9, 11, 1, 15, 2, 8, 10, 12, 16, 14, 5], 当k=4时, 应该报告1, 2, 3, 5\n",
    "\n",
    "note： 最直观的方法就是先将数组A排序, 然后从左向右报告其前k项, 这样操作的时间复杂度为$O(nlogn)$. 调用用` BB(A,p,r,k)`设计一个算法使其报告无序数组A的前k项, 满足时间复杂度好于$\\Theta(nlogn)$, 并且当$k=\\sqrt{n}$时, 你设计的算法时间复杂度应该为$\\Theta(n)$.\n",
    "\n",
    "\n",
    "\n",
    "3. 给定一个大小为n的数组, 找到一个 时间复杂度为$O(n log k)$ 的算法, 该算法将A中的元素重新排序, 使它们被划分为k个部分, 每个部分的元素小于或等于下一部分的元素。假设n和k都是2的幂。使用伪代码表示你的算法, 并分析时间复杂度。\n",
    "\n",
    "e.g.:\n",
    "---\n",
    "数组：[1,  3,  5,  7,  9,  11,  13,  15,  2,  4,  6,  8,  10,  12,  16,  14], k=4, \n",
    "\n",
    "对应重新排序的数组为：[1,  3,  2,  4]  [7,  6,  5,  8]  [12,  11,  10,  9]  [13,  14,  16,  15]\n",
    "\n",
    "\n"
   ]
  },
  {
   "cell_type": "markdown",
   "metadata": {},
   "source": [
    "idea：\n",
    "1、思路：将快排中递归的过程进行修改，使用BB确定中位数下标，可以划分成相等的两个部分，时间复杂度为O(nlogn)\n",
    "伪代码：\n",
    "f1(A, l, r):  \n",
    "    if l < r:  \n",
    "        k = (r - l + 1) // 2  \n",
    "        q = BB(A, l, r, k)   \n",
    "        p = par(A, l, r, q) \n",
    "        f1(A, l, p - 1)  \n",
    "        f1(A, p + 1, r)  \n",
    "    \n",
    "\n",
    "2、思路：对快排的递归进行修改，通过k值确定需要递归的部分数组，最后输出前k个数字就行了，时间复杂度为O(nlogn)。\n",
    "\n",
    "f2(A, l, r, k):  \n",
    "    if l < r:  \n",
    "        mid = (r - l + 1) // 2  \n",
    "        q = BB(A, l, r, mid)   \n",
    "        p = par(A, l, r, q) \n",
    "        if p > k - 1:\n",
    "            f2(A, l, p - 1)\n",
    "        elif p < k - 1:\n",
    "            f2(A, p + 1, r)\n",
    "        else:\n",
    "            return A[:k]\n",
    "            \n",
    "3、思路：对快速排序的递归进行修改，利用BB确定第k个数的位置，par函数划分两部分，然后继续递归后面的部分，时间复杂度为O(nlogk)。\n",
    "\n",
    "f3(A, l, r, k): \n",
    "    if r-l+1 < k:\n",
    "        return \n",
    "    q = BB(A, l, r, k)   \n",
    "    p = par(A, l, r, q)   \n",
    "    f3(A,p+1,r,k)  "
   ]
  },
  {
   "cell_type": "code",
   "execution_count": 7,
   "metadata": {
    "ExecuteTime": {
     "end_time": "2025-03-21T09:03:50.204730Z",
     "start_time": "2025-03-21T09:03:50.190772Z"
    }
   },
   "outputs": [
    {
     "name": "stdout",
     "output_type": "stream",
     "text": [
      "[1, 2, 3, 5, 7, 8, 9, 10, 11, 12, 13, 14, 15, 16]\n",
      "[1, 2, 3, 5]\n",
      "[1, 3, 2, 4, 5, 6, 7, 8, 9, 10, 11, 12, 13, 14, 15, 16]\n"
     ]
    }
   ],
   "source": [
    "def par(arr, l, r, q):\n",
    "    arr[q], arr[r] = arr[r], arr[q]\n",
    "    i = l - 1\n",
    "    x = arr[r]\n",
    "    for j in range(l, r):\n",
    "        if arr[j] <= x:\n",
    "            i += 1\n",
    "            arr[i], arr[j] = arr[j], arr[i]\n",
    "    arr[i + 1], arr[r] = arr[r], arr[i + 1]\n",
    "    return i + 1\n",
    "\n",
    "\n",
    "def BB(A, l, r, k):\n",
    "    if l == r:\n",
    "        return l\n",
    "    p = par(A, l, r, r)\n",
    "    num = p - l + 1\n",
    "    if num == k:\n",
    "        return p\n",
    "    elif num > k:\n",
    "        return BB(A, l, p - 1, k)\n",
    "    else:\n",
    "        return BB(A, p + 1, r, k - num)\n",
    "\n",
    "\n",
    "# 问题1\n",
    "def f1(A, l, r):\n",
    "    if l < r:\n",
    "        k = (r - l + 1) // 2\n",
    "        q = BB(A, l, r, k)\n",
    "        p = par(A, l, r, q)\n",
    "        f1(A, l, p - 1)\n",
    "        f1(A, p + 1, r)\n",
    "\n",
    "\n",
    "# 问题2\n",
    "def f2(A, l, r, k):\n",
    "    if l < r:\n",
    "        mid = (r - l + 1) // 2\n",
    "        q = BB(A, l, r, mid)\n",
    "        p = par(A, l, r, q)\n",
    "        if p > k - 1:\n",
    "            f2(A, l, p - 1, k)\n",
    "        elif p < k - 1:\n",
    "            f2(A, p + 1, r, k)\n",
    "        else:\n",
    "            return \n",
    "\n",
    "\n",
    "# 问题3\n",
    "def f3(A, l, r, k): \n",
    "    if r-l+1 < k:\n",
    "        return \n",
    "    q = BB(A, l, r, k)   \n",
    "    p = par(A, l, r, q)   \n",
    "    f3(A,p+1,r,k)\n",
    "\n",
    "\n",
    "A = [13, 3, 7, 9, 11, 1, 15, 2, 8, 10, 12, 16, 14, 5]\n",
    "f1(A, 0, len(A) - 1)\n",
    "print(A)\n",
    "\n",
    "A = [13, 3, 7, 9, 11, 1, 15, 2, 8, 10, 12, 16, 14, 5]\n",
    "f2(A, 0, len(A) - 1, 4)\n",
    "print(A[:4])\n",
    "\n",
    "A = [1, 3, 5, 7, 9, 11, 13, 15, 2, 4, 6, 8, 10, 12, 16, 14]\n",
    "f3(A, 0, len(A) - 1, 4)\n",
    "print(A)\n",
    "    "
   ]
  },
  {
   "cell_type": "markdown",
   "metadata": {},
   "source": [
    "## 问题 10：\n",
    "\n",
    "给定一个包含m个**字符串**的数组A, 其中不同的字符串可能有不同的字符数, 但数组中所有字符串的字符总数为n。设计一个算法在 $O(n)$ 时间内对字符串进行排序, 分析算法设计方案, 计算其时间复杂度, 并基于python编程实现该算法。请注意, 假设字符串只包含\"a\",\"b\",...,\"z\", \n",
    "\n",
    "\n",
    "\n",
    "举例1：数组A=[\"a\", \"da\", \"bde\", \"ab\", \"bc\", \"abdc\", \"cdba\"], 排序后的数组应该为：['a', 'ab', 'abdc', 'bc', 'bde', 'cdba', 'da']\n",
    "\n",
    "\n",
    "\n",
    "举例2：数组A=['ab', 'a', 'b', 'abc', 'ba', 'c'], 排序后的数组应该为：\n",
    "\n",
    "['a', 'ab', 'abc', 'b', 'ba', 'c']\n",
    "\n",
    "\n",
    "\n",
    "举例3：数组A=['aef', 'yzr', 'wr', 'ab', 'bhjc', 'lkabdc', 'pwcdba'],  排序后的数组应该为：['ab', 'aef', 'bhjc', 'lkabdc', 'pwcdba', 'wr', 'yzr']\n",
    "\n",
    "\n",
    "\n",
    "note：\n",
    "\n",
    "-  两个字符之间的比较可以考虑比较他们对应的ASCII码值；\n",
    "- python中可以使用`ord(\"a\")`返回字符 “a”对应的ASCII值"
   ]
  },
  {
   "cell_type": "markdown",
   "metadata": {},
   "source": [
    "idea:问了豆包O(n)的排序算法有哪些，就看到有基数排序，了解了一下基数排序。剩下的自己想的。\n",
    "使用归并+基数排序的思想实现，将字符串数组按照第i位的ASCII值进行排序分类，再对每个bucket内部进行排序，因为每次都是按照第i位字符处理的，所以最终时间复杂度为O(n)。"
   ]
  },
  {
   "cell_type": "code",
   "execution_count": 3,
   "metadata": {
    "ExecuteTime": {
     "end_time": "2025-03-24T06:56:35.461413Z",
     "start_time": "2025-03-24T06:56:35.438215Z"
    }
   },
   "outputs": [
    {
     "name": "stdout",
     "output_type": "stream",
     "text": [
      "['a', 'ab', 'abdc', 'bc', 'bde', 'cdba', 'da']\n",
      "['a', 'ab', 'abc', 'b', 'ba', 'c']\n",
      "['ab', 'aef', 'bhjc', 'lkabdc', 'pwcdba', 'wr', 'yzr']\n"
     ]
    }
   ],
   "source": [
    "# add your code here\n",
    "# your algorithm time complexity is :\n",
    "def f(A,i):\n",
    "    bucket = [[] for _ in range(27)]\n",
    "    for s in A:\n",
    "        if  i < len(s):\n",
    "            bucket[ord(s[i])-ord('a')+1].append(s)\n",
    "        else:\n",
    "            bucket[0].append(s)\n",
    "    for k in range(27):\n",
    "        if len(bucket[k]) > 1:\n",
    "            bucket[k]=f(bucket[k],i+1)\n",
    "    ans = []\n",
    "    for k in range(27):\n",
    "        ans.extend(bucket[k])\n",
    "    return ans\n",
    "print(f([\"a\", \"da\", \"bde\", \"ab\", \"bc\", \"abdc\", \"cdba\"],0))   \n",
    "print(f(['ab', 'a', 'b', 'abc', 'ba', 'c'],0))\n",
    "print(f(['aef', 'yzr', 'wr', 'ab', 'bhjc', 'lkabdc', 'pwcdba'],0))"
   ]
  },
  {
   "cell_type": "code",
   "outputs": [],
   "source": [],
   "metadata": {
    "collapsed": false
   }
  }
 ],
 "metadata": {
  "kernelspec": {
   "display_name": "Python 3 (ipykernel)",
   "language": "python",
   "name": "python3"
  },
  "language_info": {
   "codemirror_mode": {
    "name": "ipython",
    "version": 3
   },
   "file_extension": ".py",
   "mimetype": "text/x-python",
   "name": "python",
   "nbconvert_exporter": "python",
   "pygments_lexer": "ipython3",
   "version": "3.9.5"
  }
 },
 "nbformat": 4,
 "nbformat_minor": 4
}
