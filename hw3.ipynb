{
 "cells": [
  {
   "cell_type": "markdown",
   "metadata": {},
   "source": [
    "## algorithm design and anlysis-2025 spring  homework 3\n",
    "**Deadline**：2025.5.14\n",
    "\n",
    "**name**:\n",
    "\n",
    "\n",
    "note：\n",
    "---\n",
    "1. 带有\\*的题目，申请免上课的同学，必须完成，其他同学选作；\n",
    "2. 请独立完成，如求助了他人或者大模型，请著明，并且不可省略算法分析部分；\n",
    "4. 如若作答有雷同，全部取消成绩；\n",
    "3. 需要书面作答的题目，可以通过引用图片的形式添加，但是注意上传项目时包含所引用的图片的源文件；\n",
    "4. $log_n$ 默认表示$log_2{n}$;"
   ]
  },
  {
   "cell_type": "markdown",
   "metadata": {},
   "source": [
    "## 问题 1  \n",
    "\n",
    "请证明基于比较的排序算法计算复杂度下界为$\\Omega(nlogn)$"
   ]
  },
  {
   "cell_type": "markdown",
   "metadata": {},
   "source": [
    "you can refer a handwritten picture, pleas upload the picture in /fig/xxx.png\n",
    "answer：\n",
    "![hw3q1.jpg](./fig/hw3q1.jpg)"
   ]
  },
  {
   "cell_type": "markdown",
   "metadata": {},
   "source": [
    "## 问题 2 \n",
    "\n",
    "构建二叉搜索树\n",
    "\n",
    "> 1. 给定一个数组 [48, 33, 49, 47, 42, 46, 32], 构建一个二叉搜索树存储这些数据，请**绘制**所构建的**二叉搜索树**（标明结点的值）。\n",
    "> 2. 从第1问的二叉搜索树中删除33，请**绘制**删除33后的**二叉搜索树**（标明结点的值）\n",
    "\n",
    "- 推荐使用graphviz包绘制树的结构"
   ]
  },
  {
   "cell_type": "markdown",
   "metadata": {},
   "source": [
    "you can refer a handwritten picture, pleas upload the picture in /fig/xxx.png\n",
    "answer：\n",
    "![hw3q2.jpg](./fig/hw3q2.jpg)"
   ]
  },
  {
   "cell_type": "markdown",
   "metadata": {},
   "source": [
    "## 问题 3 \n",
    "\n",
    "> 下面是九门课程的开始和结束时间:\n",
    ">\n",
    "> [(9:00,12:30), (11:00,14:00), (13:00, 14:30), (9:00,10:30),(13:00, 14:30),(14:00,16:30), (15:00,16:30), (15:00,16:30), (9:00,10:30)]\n",
    ">\n",
    "> 请使用贪婪算法为这九门课分配教室，要求在同一天内安排这些课，并且每个教室同一时间只能安排一门课。\n",
    "\n",
    "**请问最少需要几间教室，罗列出每个教室安排的课程**"
   ]
  },
  {
   "cell_type": "markdown",
   "metadata": {},
   "source": [
    "idea：先将数组按照开始的时间升序排序，然后遍历数组，如果当前课程的开始时间大于等于前一个课程的结束时间，则将当前课程安排在前一个课程的教室，否则新开一个教室"
   ]
  },
  {
   "cell_type": "code",
   "execution_count": 1,
   "metadata": {
    "vscode": {
     "languageId": "plaintext"
    },
    "ExecuteTime": {
     "end_time": "2025-04-08T08:00:26.190420Z",
     "start_time": "2025-04-08T08:00:26.164299Z"
    }
   },
   "outputs": [
    {
     "name": "stdout",
     "output_type": "stream",
     "text": [
      "3\n",
      "[[(9, 12.5), (13, 14.5), (15, 16.5)], [(9, 10.5), (11, 14), (14, 16.5)], [(9, 10.5), (13, 14.5), (15, 16.5)]]\n"
     ]
    }
   ],
   "source": [
    "# add your code here\n",
    "# your algorithm time complexity is:\n",
    "def f(arr):\n",
    "    arr.sort(key=lambda x: x[0])\n",
    "    res = []\n",
    "    for i in arr:\n",
    "        if not res:\n",
    "            res.append([i])\n",
    "        else:\n",
    "            flag = False\n",
    "            for j in res:\n",
    "                if i[0] >= j[-1][1]:\n",
    "                    j.append(i)\n",
    "                    flag = True\n",
    "                    break\n",
    "            if not flag:\n",
    "                res.append([i])\n",
    "    return res\n",
    "\n",
    "arr = [(9,12.5), (11,14), (13, 14.5), (9,10.5),(13, 14.5),(14,16.5), (15,16.5), (15,16.5), (9,10.5)]\n",
    "ans = f(arr)\n",
    "print(len(ans))\n",
    "print(ans)"
   ]
  },
  {
   "cell_type": "markdown",
   "metadata": {},
   "source": [
    "## 问题 4 \n",
    "\n",
    "> 爬楼梯问题：假设爬楼梯时你每次只能爬一阶或者爬两阶，问爬上n阶的楼梯，你一共有多少种方法\n",
    "\n",
    "请设计算法完成该问题，分析算法设计思路，计算时间复杂度，并基于python编程实现"
   ]
  },
  {
   "cell_type": "markdown",
   "metadata": {},
   "source": [
    "idea：使用DP解决问题，设dp[i]表示爬到第i阶楼梯的方法数，则dp[i] = dp[i-1] + dp[i-2]，时间复杂度为O(n)"
   ]
  },
  {
   "cell_type": "code",
   "execution_count": 2,
   "metadata": {
    "ExecuteTime": {
     "end_time": "2025-04-08T08:00:26.206392Z",
     "start_time": "2025-04-08T08:00:26.194576Z"
    }
   },
   "outputs": [
    {
     "name": "stdout",
     "output_type": "stream",
     "text": [
      "8\n"
     ]
    }
   ],
   "source": [
    "# add your code here\n",
    "# your algorithm time complexity is: \n",
    "def f(n):\n",
    "    dp = [0 for _ in range(n+1)]\n",
    "    dp[0] = 1\n",
    "    dp[1] = 1\n",
    "    for i in range(2,n+1):\n",
    "        dp[i] = dp[i-1] + dp[i-2]\n",
    "    return dp[n]\n",
    "print(f(5))"
   ]
  },
  {
   "cell_type": "markdown",
   "metadata": {},
   "source": [
    "## 问题 5 \n",
    "\n",
    "> 0-1背包问题：现在有4块大理石，每个大理石对应的重量和价值使用一个元组表示, 即（重量，价值），4块大理石的重量和价值为：[(5,10), (4,40), (6,30), (3, 50)], 假设你有一辆最大承重为9的小推车，请问使用这个小推车装大理石的最大价值为多少\n",
    "\n",
    "请设计一个算法解决该问题，分析算法设计思路，计算时间复杂度，并基于python编程实现"
   ]
  },
  {
   "cell_type": "markdown",
   "metadata": {},
   "source": [
    "idea：还是使用DP解决问题，设dp[i][j]表示前i个大理石中，重量为j时的最大价值，则dp[i][j] = max(dp[i-1][j],dp[i-1][j-w[i]]+v[i]),时间复杂度为O(n*w)"
   ]
  },
  {
   "cell_type": "code",
   "execution_count": 3,
   "metadata": {
    "ExecuteTime": {
     "end_time": "2025-04-08T08:00:26.237415Z",
     "start_time": "2025-04-08T08:00:26.208852Z"
    }
   },
   "outputs": [
    {
     "name": "stdout",
     "output_type": "stream",
     "text": [
      "90\n"
     ]
    }
   ],
   "source": [
    "# add your code here\n",
    "# your algorithm time complexity is:\n",
    "def f(arr,maxw):\n",
    "    w = [i[0] for i in arr]\n",
    "    v = [i[1] for i in arr]\n",
    "    n = len(arr)\n",
    "    dp = [0 for _ in range(maxw+1)]\n",
    "    for i in range(1,n+1):\n",
    "        for j in range(maxw,0,-1):\n",
    "            if j >= w[i-1]:\n",
    "                dp[j] = max(dp[j],dp[j-w[i-1]]+v[i-1])\n",
    "            else:\n",
    "                dp[j] = dp[j]\n",
    "    return dp[maxw]\n",
    "arr = [(5,10), (4,40), (6,30), (3, 50)]\n",
    "print(f(arr,9))"
   ]
  },
  {
   "cell_type": "markdown",
   "metadata": {},
   "source": [
    "## 问题 6 \n",
    "给定 `n` 个非负整数表示每个宽度为 `1` 的柱子的高度图，计算按此排列的柱子，下雨之后能接多少雨水。\n",
    "\n",
    "\n",
    "\n",
    "<div style=\"text-align:center;width:800px;\"> <img alt=\"\" src=\"./fig/hw3q6.png\"> </div>\n",
    "\n",
    "请分析算法设计思路，计算时间复杂度，并基于python编程实现"
   ]
  },
  {
   "cell_type": "markdown",
   "metadata": {},
   "source": [
    "idea：某个位置上能否接到雨水主要取决于左右两边最大的柱子以及这个位置柱子的高度，由此可以写出一个O(n)的算法"
   ]
  },
  {
   "cell_type": "code",
   "execution_count": 4,
   "metadata": {
    "ExecuteTime": {
     "end_time": "2025-04-08T08:00:26.267330Z",
     "start_time": "2025-04-08T08:00:26.245039Z"
    }
   },
   "outputs": [
    {
     "name": "stdout",
     "output_type": "stream",
     "text": [
      "6\n",
      "9\n"
     ]
    }
   ],
   "source": [
    "# add your code here\n",
    "# your algorithm time complexity is:\n",
    "def f(h):\n",
    "    n = len(h)\n",
    "    lmax = [0 for _ in range(n)]\n",
    "    rmax = [0 for _ in range(n)]\n",
    "    for i in range(1,n):\n",
    "        lmax[i] = max(lmax[i-1],h[i-1])\n",
    "    for i in range(n-2,-1,-1):\n",
    "        rmax[i] = max(rmax[i+1],h[i+1])\n",
    "    res = 0\n",
    "    for i in range(1,n-1):\n",
    "        res += max(0,min(lmax[i],rmax[i])-h[i])\n",
    "    return res\n",
    "print(f([0,1,0,2,1,0,1,3,2,1,2,1]))\n",
    "print(f([4,2,0,3,2,5]))"
   ]
  },
  {
   "cell_type": "markdown",
   "metadata": {},
   "source": [
    "## 问题 7 \n",
    "\n",
    "**股票投资组合优化**： 假设你是一位投资者，想要在不同的股票中分配你的资金，以最大化你的投资回报。每只股票都有不同的预期收益率和风险。你的目标是选择一些股票，使得总投资金额不超过你的预算，并且预期收益最大化。\n",
    "\n",
    "在这个情况下，你可以将每只股票视为一个“物品”，其重量为投资金额，价值为预期收益率。然后，你可以使用分级背包问题的方法来选择部分股票，以便在预算内获得最大的预期收益。\n",
    "\n",
    "以下是一个简化的例子：\n",
    "\n",
    "假设你有以下三只股票可供选择：\n",
    "\n",
    "1. 股票 A：投资金额 5000 美元，预期收益率 10%\n",
    "2. 股票 B：投资金额 3000 美元，预期收益率 8%\n",
    "3. 股票 C：投资金额 2000 美元，预期收益率 12%\n",
    "\n",
    "请设计算法找到最优投资方案，分析算法设计思路，计算时间复杂度，并基于python编程实现"
   ]
  },
  {
   "cell_type": "markdown",
   "metadata": {},
   "source": [
    "idea：由于股票可以重复购买，所以可以使用完全背包问题的方法解决，设dp[i]表示投资金额为i时的最大预期收益，则dp[i] = max(dp[i],dp[i-w[j]]+v[j]),时间复杂度为O(n*maxw)"
   ]
  },
  {
   "cell_type": "code",
   "execution_count": 5,
   "metadata": {
    "ExecuteTime": {
     "end_time": "2025-04-08T08:00:26.283216Z",
     "start_time": "2025-04-08T08:00:26.273474Z"
    }
   },
   "outputs": [],
   "source": [
    "# add your code here\n",
    "# your algorithm time complexity is:\n",
    "def f(arr,maxw):\n",
    "    w = [i[0] for i in arr]\n",
    "    v = [i[1] for i in arr]\n",
    "    n = len(arr)\n",
    "    dp = [0 for _ in range(maxw+1)]\n",
    "    for i in range(1,n+1):\n",
    "        for j in range(w[i-1],maxw+1):\n",
    "            dp[j] = max(dp[j],dp[j-w[i-1]]+v[i-1])\n",
    "    return dp[maxw]"
   ]
  },
  {
   "cell_type": "markdown",
   "metadata": {},
   "source": [
    "## 问题 8\n",
    "\n",
    "给你二叉搜索树的根节点 root ，该树中的恰好两个节点的值被错误地交换。请在不改变其结构的情况下，恢复这棵树 。设计算法解决该问题，分析算法设计思路，计算时间复杂度，并基于python编程实现\n",
    "\n",
    "e.g.:\n",
    "---\n",
    "1.\n",
    "\n",
    "<div style=\"text-align:center;width:200px;\"> <img alt=\"\" src=\"./fig/hw3q9-1.jpg\"> </div>\n",
    "输入：root = [1,3,null,null,2]， 输出为：[3,1,null,null,2]， \n",
    "\n",
    "解释：3 不能是 1 的左孩子，因为 3 > 1 。交换 1 和 3 使二叉搜索树有效。\n",
    "\n",
    "2.\n",
    "\n",
    " <div style=\"text-align:center;width:200px;\"> <img alt=\"\" src=\"./fig/hw3q9-2.jpg\"> </div>\n",
    "输入： root=[3,1,4,null,null,2]， 输出为：[2,1,4,null,null,3]\n",
    "\n",
    "解释：2 不能在 3 的右子树中，因为 2 < 3 。交换 2 和 3 使二叉搜索树有效。"
   ]
  },
  {
   "cell_type": "markdown",
   "metadata": {},
   "source": [
    "idea：先找到两个错误的节点，然后交换两个节点的值即可。\n",
    "用两个数组来存储节点需要大于或小于的数字的下标，当违反规则，则更新结果数组，最后根据结果交换节点值即可。\n",
    "时间复杂度为O(n)\n"
   ]
  },
  {
   "cell_type": "code",
   "execution_count": 6,
   "metadata": {
    "ExecuteTime": {
     "end_time": "2025-04-08T08:00:26.314753Z",
     "start_time": "2025-04-08T08:00:26.289558Z"
    }
   },
   "outputs": [
    {
     "name": "stdout",
     "output_type": "stream",
     "text": [
      "[3, 1, None, None, 2]\n",
      "[2, 1, 4, None, None, 3]\n",
      "[36, 30, 90, None, None, 46, 100]\n"
     ]
    }
   ],
   "source": [
    "# add your code here\n",
    "# your algorithm time complexity is:\n",
    "\n",
    "ans = [-1,-1]\n",
    "def f(root,i,mi,ma):\n",
    "    global ans\n",
    "    n = len(root)\n",
    "    l = (i+1)*2-1\n",
    "    r = (i+1)*2\n",
    "    if mi and ma and root[mi[-1]] < root[i] < root[ma[-1]]:\n",
    "        ans = [mi[-1],ma[-1]]\n",
    "        return \n",
    "    if mi and root[i] > root[mi[-1]]:\n",
    "        ans = [mi[0],i]\n",
    "    if ma and root[i] < root[ma[-1]]:\n",
    "        ans = [ma[0],i]\n",
    "    if l < n and root[l] is not None:\n",
    "        f(root,l,mi+[i],ma)\n",
    "    if r < n and root[r] is not None:\n",
    "        f(root,r,mi,ma+[i])\n",
    "root = [1,3,None,None,2]\n",
    "f(root,0,[],[])\n",
    "if ans[0] != -1:\n",
    "    root[ans[0]],root[ans[1]] = root[ans[1]],root[ans[0]]\n",
    "print(root)\n",
    "\n",
    "root = [3,1,4,None,None,2]\n",
    "f(root,0,[],[])\n",
    "if ans[0] != -1:\n",
    "    root[ans[0]],root[ans[1]] = root[ans[1]],root[ans[0]]\n",
    "print(root)\n",
    "\n",
    "root = [46,30,90,None,None,36,100]\n",
    "f(root,0,[],[])\n",
    "if ans[0] != -1:\n",
    "    root[ans[0]],root[ans[1]] = root[ans[1]],root[ans[0]]\n",
    "print(root)\n"
   ]
  },
  {
   "cell_type": "markdown",
   "metadata": {},
   "source": [
    "## 问题 9  \n",
    "\n",
    "给你一个二叉树的根节点 root ，树中每个节点都存放有一个 0 到 9 之间的数字。每条从根节点到叶节点的路径都代表一个数字：\n",
    "\n",
    "> 例如，从根节点到叶节点的路径 1 -> 2 -> 3 表示数字 123 。\n",
    "\n",
    "设计一个算法计算从根节点到叶节点生成的所有数字之和 ，分析算法设计思路，计算时间复杂度，并基于python编程实现\n",
    "\n",
    "叶节点:是指没有子节点的节点。\n",
    "\n",
    "e.g.:\n",
    "---\n",
    "1.\n",
    "\n",
    " <div style=\"text-align:center;width:200px;\"> <img alt=\"figure\" src=\"./fig/hw3q10-1.jpg\"> </div>\n",
    "\n",
    " 输入：root = [1,2,3], 输出：25\n",
    "\n",
    "解释：从根到叶子节点路径 1->2 代表数字 12，1->3 代表数字 13，因此和为 12 + 13 = 25 。\n",
    "\n",
    "2.\n",
    "\n",
    " <div style=\"text-align:center;width:200px;\"> <img alt=\"figure\" src=\"./fig/hw3q10-2.jpg\"> </div>\n",
    "\n",
    " 输入：root = [4,9,0,5,1], 输出：1026\n",
    "\n",
    "解释：从根到叶子节点路径 4->9->5 代表数字 495，4->9->1 代表数字 491，4->0 代表数字 40。因此和为 495 + 491 + 40 = 1026 。"
   ]
  },
  {
   "cell_type": "markdown",
   "metadata": {},
   "source": [
    "idea：dfs遍历求和即可"
   ]
  },
  {
   "cell_type": "code",
   "execution_count": 7,
   "metadata": {
    "ExecuteTime": {
     "end_time": "2025-04-08T08:00:26.346057Z",
     "start_time": "2025-04-08T08:00:26.319596Z"
    }
   },
   "outputs": [
    {
     "name": "stdout",
     "output_type": "stream",
     "text": [
      "25\n",
      "1026\n"
     ]
    }
   ],
   "source": [
    "# add your code here\n",
    "# your algorithm time complexity is:\n",
    "\n",
    "\n",
    "def f(root,s,i):\n",
    "    global ans\n",
    "    n = len(root)\n",
    "    l = (i+1)*2-1\n",
    "    r = (i+1)*2\n",
    "    if i >= n:\n",
    "        return\n",
    "    s = s*10+root[i]\n",
    "    if l >= n and r >= n:\n",
    "        ans += s\n",
    "    f(root,s,l)\n",
    "    f(root,s,r)\n",
    "ans = 0\n",
    "root = [1,2,3]\n",
    "f(root,0,0)\n",
    "print(ans)\n",
    "ans = 0\n",
    "root = [4,9,0,5,1]\n",
    "f(root,0,0)\n",
    "print(ans)"
   ]
  },
  {
   "cell_type": "markdown",
   "metadata": {},
   "source": [
    "## 问题 10  \n",
    "\n",
    "给你一个二叉树的根节点 root ， 检查它是否轴对称。\n",
    "\n",
    "1. 分析算法设计思路，计算时间复杂度，并基于python编程实现\n",
    "2. \\* 设计使用递归和迭代两种方法解决这个问题，计算时间复杂度，并基于python编程实现\n",
    "\n",
    "e.g.:\n",
    "---\n",
    "1.\n",
    "\n",
    " <div style=\"text-align:center;width:200px;\"> <img alt=\"figure\" src=\"./fig/hw3q11-1.png\"> </div>\n",
    "\n",
    " 输入：root = [1,2,2,3,4,4,3]， 输出：true\n",
    "\n",
    "解释：二叉树 [1,2,2,3,4,4,3] 对称。\n",
    "\n",
    "2.\n",
    "\n",
    " <div style=\"text-align:center;width:200px;\"> <img alt=\"figure\" src=\"./fig/hw3q11-2.png\"> </div>\n",
    "\n",
    " 输入：root = [1,2,2,null,3,null,3]， 输出：false"
   ]
  },
  {
   "cell_type": "markdown",
   "metadata": {},
   "source": [
    "idea:\n",
    "递归思路：用两个数组来存储根节点左右子树的中序遍历结果，最后判断两个数组是否对称即可,时间复杂度为O(n)。\n",
    "迭代思路：bfs，判断每一层是否对称，对于没有的的节点处添加None，时间复杂度为O(n)。"
   ]
  },
  {
   "cell_type": "code",
   "execution_count": 8,
   "metadata": {
    "ExecuteTime": {
     "end_time": "2025-04-08T08:00:26.392831Z",
     "start_time": "2025-04-08T08:00:26.353086Z"
    }
   },
   "outputs": [
    {
     "name": "stdout",
     "output_type": "stream",
     "text": [
      "True\n",
      "False\n",
      "True\n",
      "False\n"
     ]
    }
   ],
   "source": [
    "# add your code here\n",
    "# your algorithm time complexity is:\n",
    "\n",
    "#递归：\n",
    "def dfs(root,i,side):\n",
    "    n = len(root)\n",
    "    l = (i+1)*2-1\n",
    "    r = (i+1)*2\n",
    "    if l < n and root[l] is not None:\n",
    "        dfs(root,l,side)\n",
    "    else:\n",
    "        if side:\n",
    "            lt.append(None)\n",
    "        else:\n",
    "            rt.append(None)\n",
    "    if side:\n",
    "        lt.append(root[i])\n",
    "    else:\n",
    "        rt.append(root[i])\n",
    "    if r < n and root[r] is not None:\n",
    "        dfs(root,r,side)\n",
    "    else:\n",
    "        if side:\n",
    "            lt.append(None)\n",
    "        else:\n",
    "            rt.append(None)\n",
    "lt = []\n",
    "rt = []\n",
    "root = [1,2,2,3,4,4,3]\n",
    "dfs(root,1,True)\n",
    "dfs(root,2,False)\n",
    "\n",
    "ans = True\n",
    "n = len(lt)\n",
    "for i in range(n):\n",
    "    if lt[i] != rt[n-1-i]:\n",
    "        ans = False\n",
    "        break\n",
    "print(ans)\n",
    "\n",
    "root = [1,2,2,None,3,None,3]\n",
    "lt = []\n",
    "rt = []\n",
    "dfs(root,1,True)\n",
    "dfs(root,2,False)\n",
    "ans = True\n",
    "n = len(lt)\n",
    "for i in range(n):\n",
    "    if lt[i] != rt[n-1-i]:\n",
    "        ans = False\n",
    "        break\n",
    "print(ans)\n",
    "    \n",
    "#迭代：\n",
    "def bfs(root):\n",
    "    n = len(root)\n",
    "    q = [0]\n",
    "    while q:\n",
    "        tmp = []\n",
    "        for i in q:\n",
    "            if i is None:\n",
    "                continue\n",
    "            l = (i+1)*2-1\n",
    "            r = (i+1)*2\n",
    "            if l < n:\n",
    "                tmp.append(l)\n",
    "            else:\n",
    "                tmp.append(None)\n",
    "            if r < n:\n",
    "                tmp.append(r)\n",
    "            else:\n",
    "                tmp.append(None)\n",
    "        for i in range(len(tmp)//2):\n",
    "            if tmp[i] is not None and tmp[len(tmp)-1-i] is not None:\n",
    "                if root[tmp[i]] != root[tmp[len(tmp)-1-i]]:\n",
    "                    return False\n",
    "            elif tmp[i] is None and tmp[len(tmp)-1-i] is None:\n",
    "                continue\n",
    "            else:\n",
    "                return False\n",
    "        \n",
    "        q = tmp\n",
    "    return True\n",
    "\n",
    "root = [1,2,2,3,4,4,3]\n",
    "print(bfs(root))\n",
    "root = [1,2,2,None,3,None,3]\n",
    "print(bfs(root))\n",
    "\n",
    "    "
   ]
  },
  {
   "cell_type": "markdown",
   "metadata": {},
   "source": [
    "## 问题 11  \n",
    "\n",
    "给你一个由 '1'（陆地）和 '0'（水）组成的的二维网格，请你计算网格中岛屿的数量。岛屿总是被水包围，并且每座岛屿只能由水平方向和/或竖直方向上相邻的陆地连接形成。\n",
    "\n",
    "此外，你可以假设该网格的四条边均被水包围。\n",
    "\n",
    "分析算法设计思路，计算时间复杂度，并基于python编程实现\n",
    "\n",
    "e.g.:\n",
    "---\n",
    "1.\n",
    "输入：grid = [\n",
    "\n",
    "    [\"1\",\"1\",\"1\",\"1\",\"0\"],\n",
    "\n",
    "    [\"1\",\"1\",\"0\",\"1\",\"0\"], \n",
    "\n",
    "    [\"1\",\"1\",\"0\",\"0\",\"0\"], \n",
    "\n",
    "    [\"0\",\"0\",\"0\",\"0\",\"0\"]  \n",
    "\n",
    "]\n",
    "\n",
    "输出：1\n",
    "\n",
    "2.\n",
    "输入：grid = [\n",
    "\n",
    "    [\"1\",\"1\",\"0\",\"0\",\"0\"],\n",
    "\n",
    "    [\"1\",\"1\",\"0\",\"0\",\"0\"],\n",
    "\n",
    "    [\"0\",\"0\",\"1\",\"0\",\"0\"],\n",
    "\n",
    "    [\"0\",\"0\",\"0\",\"1\",\"1\"]\n",
    "\n",
    "]\n",
    "\n",
    "输出：3"
   ]
  },
  {
   "cell_type": "markdown",
   "metadata": {},
   "source": [
    "idea:如果网格值为1，则ans+1，将其置为0，并且dfs所有相邻的1，时间复杂度为O(n*m)"
   ]
  },
  {
   "cell_type": "code",
   "execution_count": 9,
   "metadata": {
    "ExecuteTime": {
     "end_time": "2025-04-08T08:00:26.439608Z",
     "start_time": "2025-04-08T08:00:26.418657Z"
    }
   },
   "outputs": [
    {
     "name": "stdout",
     "output_type": "stream",
     "text": [
      "1\n",
      "3\n"
     ]
    }
   ],
   "source": [
    "# add your code here\n",
    "# your algorithm time complexity is:\n",
    "\n",
    "def dfs(grid,i,j):\n",
    "    n = len(grid)\n",
    "    m = len(grid[0])\n",
    "    if i < 0 or i >= n or j < 0 or j >= m or grid[i][j] == \"0\":\n",
    "        return\n",
    "    grid[i][j] = \"0\"\n",
    "    dfs(grid,i-1,j)\n",
    "    dfs(grid,i+1,j)\n",
    "    dfs(grid,i,j-1)\n",
    "    dfs(grid,i,j+1)\n",
    "\n",
    "def f(grid):\n",
    "    global ans\n",
    "    n = len(grid)\n",
    "    m = len(grid[0])\n",
    "    for i in range(n):\n",
    "        for j in range(m):\n",
    "            if grid[i][j] == \"1\":\n",
    "                ans += 1\n",
    "                dfs(grid,i,j)\n",
    "    return ans\n",
    "ans = 0\n",
    "grid = [[\"1\",\"1\",\"1\",\"1\",\"0\"],\n",
    "\n",
    "[\"1\",\"1\",\"0\",\"1\",\"0\"], \n",
    "\n",
    "[\"1\",\"1\",\"0\",\"0\",\"0\"], \n",
    "\n",
    "[\"0\",\"0\",\"0\",\"0\",\"0\"]]\n",
    "print(f(grid))\n",
    "\n",
    "\n",
    "ans = 0\n",
    "grid = [[\"1\",\"1\",\"0\",\"0\",\"0\"],\n",
    "\n",
    "[\"1\",\"1\",\"0\",\"0\",\"0\"],\n",
    "\n",
    "[\"0\",\"0\",\"1\",\"0\",\"0\"],\n",
    "\n",
    "[\"0\",\"0\",\"0\",\"1\",\"1\"]]\n",
    "\n",
    "print(f(grid))"
   ]
  },
  {
   "cell_type": "code",
   "outputs": [],
   "source": [],
   "metadata": {
    "collapsed": false
   }
  }
 ],
 "metadata": {
  "language_info": {
   "name": "python"
  },
  "kernelspec": {
   "name": "python3",
   "language": "python",
   "display_name": "Python 3 (ipykernel)"
  }
 },
 "nbformat": 4,
 "nbformat_minor": 2
}
